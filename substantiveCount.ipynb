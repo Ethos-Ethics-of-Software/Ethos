{
 "cells": [
  {
   "cell_type": "markdown",
   "metadata": {},
   "source": [
    "# **Imports**"
   ]
  },
  {
   "cell_type": "code",
   "execution_count": null,
   "metadata": {},
   "outputs": [],
   "source": [
    "%pip install pandas\n",
    "%pip install nltk\n",
    "%pip install ipywidgets\n",
    "\n",
    "import pandas as pd\n",
    "import os\n",
    "import nltk\n",
    "from nltk.tokenize import RegexpTokenizer\n",
    "from nltk.corpus import stopwords\n",
    "import ipywidgets as widgets\n",
    "from IPython.display import display\n",
    "from collections import Counter"
   ]
  },
  {
   "cell_type": "markdown",
   "metadata": {},
   "source": [
    "# **Fazendo a leitura dos dados**"
   ]
  },
  {
   "cell_type": "code",
   "execution_count": null,
   "metadata": {},
   "outputs": [],
   "source": [
    "issues = pd.read_csv(\"path_to_csv\")\n",
    "comentarios = pd.read_csv(\"path_to_csv\")\n",
    "\n",
    "# Concatenando o Titulo e a Descrição das issues\n",
    "issues['Info'] = issues['TituloIssue'] + issues['DescricaoIssue']\n",
    "\n",
    "# Convertendo todos os tipos para String\n",
    "issues['Info'] = issues['Info'].astype(str).str.lower()\n",
    "comentarios['Comentario'] = comentarios['Comentario'].astype(str).str.lower()"
   ]
  },
  {
   "cell_type": "markdown",
   "metadata": {},
   "source": [
    "# **Tokenizando as issues**"
   ]
  },
  {
   "cell_type": "code",
   "execution_count": null,
   "metadata": {},
   "outputs": [],
   "source": [
    "# Definindo as StopWords\n",
    "nltk.download('stopwords')\n",
    "stopWords = set(stopwords.words('english'))\n",
    "\n",
    "\n",
    "def removerStopWords(palavras):\n",
    "    return [palavra for palavra in palavras if palavra not in stopWords and palavra.isalpha()]\n",
    "\n",
    "# Tokenizando\n",
    "nltk.download('punkt_tab')\n",
    "from nltk import tokenize\n",
    "\n",
    "comentariosToK = []\n",
    "for i in range (comentarios['Comentario'].size):\n",
    "    comentariosToK.append(removerStopWords(tokenize.word_tokenize(comentarios.loc[i]['Comentario'])))\n",
    "\n",
    "infoToK = []\n",
    "for k in range(issues['Info'].size):\n",
    "    infoToK.append(removerStopWords(tokenize.word_tokenize(issues.loc[k]['Info'])))\n",
    "\n",
    "# Juntando os vetores\n",
    "import itertools\n",
    "\n",
    "comentariosToK = list(itertools.chain(*comentariosToK))\n",
    "infoToK = list(itertools.chain(*infoToK))\n"
   ]
  },
  {
   "cell_type": "markdown",
   "metadata": {},
   "source": [
    "# **Contando os substantivos**"
   ]
  },
  {
   "cell_type": "code",
   "execution_count": null,
   "metadata": {},
   "outputs": [],
   "source": [
    "nltk.download('averaged_perceptron_tagger_eng')\n",
    "from nltk import pos_tag\n",
    "\n",
    "tagsComents = pos_tag(comentariosToK)\n",
    "tagsInfo = pos_tag(infoToK)\n",
    "\n",
    "subsComents = [palavra for palavra, tag in tagsComents if tag in ['NN', 'NNS', 'NNP', 'NNPS']]\n",
    "subsInfo = [palavra for palavra, tag in tagsInfo if tag in ['NN', 'NNS', 'NNP', 'NNPS']]\n",
    "\n",
    "contagemComents = Counter(subsComents)\n",
    "contagemInfo = Counter(subsInfo)\n",
    "\n",
    "dfComents = pd.DataFrame(contagemComents.items(), columns=[\"Substantivo\", \"Frequência\"])\n",
    "dfInfo = pd.DataFrame(contagemInfo.items(), columns=[\"Substantivo\", \"Frequência\"])\n",
    "\n"
   ]
  },
  {
   "cell_type": "markdown",
   "metadata": {},
   "source": [
    "# **Exibindo os Dataframes**"
   ]
  },
  {
   "cell_type": "code",
   "execution_count": null,
   "metadata": {},
   "outputs": [],
   "source": [
    "dfInfo = dfInfo.sort_values(by='Frequência', ascending=False)\n",
    "dfInfo"
   ]
  },
  {
   "cell_type": "code",
   "execution_count": null,
   "metadata": {},
   "outputs": [],
   "source": [
    "dfComents = dfComents.sort_values(by='Frequência', ascending=False)\n",
    "dfComents"
   ]
  },
  {
   "cell_type": "markdown",
   "metadata": {},
   "source": [
    "# **Exportanto os resultados para um CSV**"
   ]
  },
  {
   "cell_type": "code",
   "execution_count": null,
   "metadata": {},
   "outputs": [],
   "source": [
    "dfComents.to_csv(\"out/subsComents.csv\", index=False)\n",
    "dfInfo.to_csv(\"out/subsInfo.csv\", index=False)"
   ]
  }
 ],
 "metadata": {
  "kernelspec": {
   "display_name": "Python 3",
   "language": "python",
   "name": "python3"
  },
  "language_info": {
   "codemirror_mode": {
    "name": "ipython",
    "version": 3
   },
   "file_extension": ".py",
   "mimetype": "text/x-python",
   "name": "python",
   "nbconvert_exporter": "python",
   "pygments_lexer": "ipython3",
   "version": "3.13.2"
  }
 },
 "nbformat": 4,
 "nbformat_minor": 2
}
