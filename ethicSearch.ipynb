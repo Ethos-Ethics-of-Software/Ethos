{
 "cells": [
  {
   "cell_type": "markdown",
   "metadata": {},
   "source": [
    "# **Procura de Problemas Éticos em Issues**"
   ]
  },
  {
   "cell_type": "code",
   "execution_count": 1,
   "metadata": {},
   "outputs": [],
   "source": [
    "import pandas as pd\n",
    "import os"
   ]
  },
  {
   "cell_type": "markdown",
   "metadata": {},
   "source": [
    "## **Fazendo a leitura dos dados:**"
   ]
  },
  {
   "cell_type": "code",
   "execution_count": null,
   "metadata": {},
   "outputs": [],
   "source": [
    "issues = pd.read_csv(\"out/yourrepo.csv\")\n",
    "comentarios = pd.read_csv(\"out/yourrepo.csv\")\n",
    "\n",
    "print(issues['DescricaoIssue'].size)\n",
    "\n",
    "comentarios = comentarios.drop(columns=['NumeroComentario','DataComentario','AutorComentario','Tags','IdIssue'])\n",
    "issues[\"Comentario\"] = issues['DescricaoIssue'] + issues['TituloIssue']\n",
    "issues = issues.drop(columns=['NumeroIssue','CriacaoIssue','RepositorioIssue','LinkIssue','IdIssue','DescricaoIssue','TituloIssue'])\n",
    "\n",
    "# Concatenando as informações em um único dataframe\n",
    "comentarios = pd.concat([issues, comentarios], axis=0)\n",
    "comentarios = comentarios.reset_index(drop=True)\n",
    "comentarios"
   ]
  },
  {
   "cell_type": "markdown",
   "metadata": {},
   "source": [
    "## **Contando a ocorrência de problemas éticos:**"
   ]
  },
  {
   "cell_type": "code",
   "execution_count": 3,
   "metadata": {},
   "outputs": [],
   "source": [
    "from collections import Counter\n",
    "import re\n",
    "\n",
    "# Definindo os EthicalIssues\n",
    "EthicalIssues = {'Bias', 'Data Governance', 'Data Protection', 'Encryption', 'Informed Consent', 'Lack of Data', 'Monetization', 'Openness', 'Privacy', 'User Data Collection'\n",
    "            'Authorship', 'Autonomy', 'Beneficence', 'Business Ethics', 'Commerce', 'Compliance', 'Confidentiality', 'Conflict of Interest', 'Context', 'Dependability',\n",
    "            'Fairness', 'Human Agency', 'Intellectual Property', 'Oversight', 'Regulatory Approaches', 'Responsibility', 'Trust', 'Trustworthiness', 'Axiology', 'Freedom',\n",
    "            'Self-Conception', 'Solidarity', 'Utility', 'Care', 'Competence', 'Professional Ethics', 'Work Ethics', 'Access', 'Accessibility', 'Common Goods', 'Dignity',\n",
    "            'Diversity', 'Equality', 'Equity', 'Humanity', 'Inclusiveness', 'Individual Differences', 'Inequality', 'Justice', 'Non-Discrimination', 'Non-Maleficence',\n",
    "            'Participation', 'Plurality', 'Prevention of Harm', 'Quality of Life', 'Respect for Human Autonomy', 'Retention and Addiction', 'Social Justice', 'Sustainability',\n",
    "            'Unemployment', 'Welfare', 'Accountability', 'Accuracy', 'Anonymity', 'Comprehensibility', 'Consistency', 'Contestability', 'Explainability', 'Explicability',\n",
    "            'Integrity', 'Interpretability', 'Liability', 'Reliability', 'Safety', 'Security', 'Speech Issues', 'Technical Robustness', 'Traceability', 'Transparency',\n",
    "            'Usability', 'Computer Abuse', 'Malicious Use'}\n",
    "\n",
    "# Função responsável por coletar as ocorrências\n",
    "def contaOcorrencias(comentarios, ethicalIssues):\n",
    "    \n",
    "    contador = Counter()\n",
    "    total = 0\n",
    "   \n",
    "    for i in range (comentarios['Comentario'].size):\n",
    "        \n",
    "        coment = str(comentarios.loc[i]['Comentario'])\n",
    "        coment = coment.lower()\n",
    "        \n",
    "        for expressao in ethicalIssues:\n",
    "            ocorrencias = re.findall(r'\\b' + re.escape(expressao.lower()) + r'\\b', coment)\n",
    "            contador[expressao] += len(ocorrencias)\n",
    "            total += len(ocorrencias)\n",
    "    \n",
    "    \n",
    "    expressoes = []\n",
    "    contagens = []\n",
    "    \n",
    "    for expressao, contagem in contador.items():\n",
    "        expressoes.append(expressao)\n",
    "        contagens.append(contagem)\n",
    "    \n",
    "    dfteste = pd.DataFrame({\n",
    "        'EthicalIssues': expressoes,\n",
    "        'Ocorrencias': contagens\n",
    "    })\n",
    "    \n",
    "    return dfteste"
   ]
  },
  {
   "cell_type": "code",
   "execution_count": null,
   "metadata": {},
   "outputs": [],
   "source": [
    "dfEthicalIssues = contaOcorrencias(comentarios, EthicalIssues)\n",
    "\n",
    "caminhoPasta = 'out'\n",
    "nomeArquivo = 'EthicalIssues.csv'\n",
    "caminhoArquivo = os.path.join(caminhoPasta, nomeArquivo)\n",
    "\n",
    "if not os.path.exists(caminhoPasta):\n",
    "    os.makedirs(caminhoPasta)\n",
    "\n",
    "dfEthicalIssues.to_csv(caminhoArquivo, sep=',', index=False, header=True, na_rep='N/A', encoding='utf-8')\n",
    "\n",
    "dfEthicalIssues.sort_values(by='Ocorrencias', ascending=False)"
   ]
  },
  {
   "cell_type": "markdown",
   "metadata": {},
   "source": [
    "### **Separando os Problemas Éticos por tipo:**"
   ]
  },
  {
   "cell_type": "code",
   "execution_count": null,
   "metadata": {},
   "outputs": [],
   "source": [
    "DataIssues = {'Bias', 'Data Governance', 'Data Protection', 'Encryption', 'Informed Consent', 'Lack of Data', 'Monetization', 'Openness', 'Privacy', 'User Data Collection'}\n",
    "\n",
    "GovernanceIssues = {'Authorship', 'Autonomy', 'Beneficence', 'Business Ethics', 'Commerce', 'Compliance', 'Confidentiality', 'Conflict of Interest', 'Context', 'Dependability',\n",
    "                    'Fairness', 'Human Agency', 'Intellectual Property', 'Oversight', 'Regulatory Approaches', 'Responsibility', 'Trust', 'Trustworthiness'}\n",
    "\n",
    "PhilosophicalIssues = {'Axiology', 'Freedom', 'Self-Conception', 'Solidarity', 'Utility'}\n",
    "\n",
    "ProfessionalIssues = {'Care', 'Competence', 'Professional Ethics', 'Work Ethics'}\n",
    "\n",
    "SocialIssues = {'Access', 'Accessibility', 'Common Goods', 'Dignity', 'Diversity', 'Equality', 'Equity', 'Humanity', 'Inclusiveness', 'Individual Differences', 'Inequality',\n",
    "                'Justice', 'Non-Discrimination', 'Non-Maleficence', 'Participation', 'Plurality', 'Prevention of Harm', 'Quality of Life', 'Respect for Human Autonomy',\n",
    "                'Retention and Addiction', 'Social Justice', 'Sustainability', 'Unemployment', 'Welfare'}\n",
    "\n",
    "TechnicalIssues = {'Accountability', 'Accuracy', 'Anonymity', 'Comprehensibility', 'Consistency', 'Contestability', 'Explainability', 'Explicability', 'Integrity',\n",
    "                   'Interpretability', 'Liability', 'Reliability', 'Safety', 'Security', 'Speech Issues', 'Technical Robustness', 'Traceability', 'Transparency', 'Usability'}\n",
    "\n",
    "MaliciousCases = {'Computer Abuse', 'Malicious Use'}\n",
    "\n",
    "\n",
    "dfTipos = pd.DataFrame()\n",
    "totalData = 0\n",
    "totalGovernance = 0\n",
    "totalPhilosophical = 0\n",
    "totalProfessional = 0\n",
    "totalSocial = 0\n",
    "totalTechnical = 0\n",
    "totalMalicious = 0\n",
    "\n",
    "for i in range (dfEthicalIssues['EthicalIssues'].size):\n",
    "    \n",
    "    if (dfEthicalIssues.loc[i]['EthicalIssues'] in (DataIssues)):\n",
    "        totalData += dfEthicalIssues.loc[i]['Ocorrencias']\n",
    "        \n",
    "    elif (dfEthicalIssues.loc[i]['EthicalIssues'] in (GovernanceIssues)):\n",
    "        totalGovernance += dfEthicalIssues.loc[i]['Ocorrencias']\n",
    "\n",
    "    elif (dfEthicalIssues.loc[i]['EthicalIssues'] in (PhilosophicalIssues)):\n",
    "        totalPhilosophical += dfEthicalIssues.loc[i]['Ocorrencias']\n",
    "    \n",
    "    elif (dfEthicalIssues.loc[i]['EthicalIssues'] in (ProfessionalIssues)):\n",
    "        totalProfessional += dfEthicalIssues.loc[i]['Ocorrencias']\n",
    "    \n",
    "    elif (dfEthicalIssues.loc[i]['EthicalIssues'] in (SocialIssues)):\n",
    "        totalSocial += dfEthicalIssues.loc[i]['Ocorrencias']\n",
    "    \n",
    "    elif (dfEthicalIssues.loc[i]['EthicalIssues'] in (TechnicalIssues)):\n",
    "        totalTechnical += dfEthicalIssues.loc[i]['Ocorrencias']\n",
    "    \n",
    "    else:\n",
    "        totalMalicious += dfEthicalIssues.loc[i]['Ocorrencias']\n",
    "\n",
    "dfTipos[\"Data Issues\"] = [totalData]\n",
    "dfTipos[\"Governance Issues\"] = [totalGovernance]\n",
    "dfTipos[\"Philosophical Issues\"] = [totalPhilosophical]\n",
    "dfTipos[\"Professional Issues\"] = [totalProfessional]\n",
    "dfTipos[\"Social Issues\"] = [totalSocial]\n",
    "dfTipos[\"Techinical Issues\"] = [totalTechnical]\n",
    "dfTipos[\"Malicious Cases\"] = [totalMalicious]\n",
    "\n",
    "caminhoPasta = 'out'\n",
    "nomeArquivo = 'EthicalIssuesTipos.csv'\n",
    "caminhoArquivo = os.path.join(caminhoPasta, nomeArquivo)\n",
    "\n",
    "if not os.path.exists(caminhoPasta):\n",
    "    os.makedirs(caminhoPasta)\n",
    "\n",
    "dfTipos.to_csv(caminhoArquivo, sep=',', index=False, header=True, na_rep='N/A', encoding='utf-8')\n",
    "\n",
    "dfTipos[\"Total\"] = dfTipos['Data Issues'] + dfTipos['Governance Issues'] + dfTipos['Malicious Cases'] + dfTipos['Philosophical Issues'] + dfTipos['Professional Issues'] + dfTipos['Social Issues']  + dfTipos['Techinical Issues']\n",
    "dfTipos[\"Porcentagem\"] = (dfTipos['Total'] / comentarios['Comentario'].size) * 100 ## Porcentagem dos comentários, título e descrição das issues que possuem citam algum problema ético\n",
    "dfTipos\n",
    "\n",
    "    \n",
    "    "
   ]
  }
 ],
 "metadata": {
  "kernelspec": {
   "display_name": "Python 3",
   "language": "python",
   "name": "python3"
  },
  "language_info": {
   "codemirror_mode": {
    "name": "ipython",
    "version": 3
   },
   "file_extension": ".py",
   "mimetype": "text/x-python",
   "name": "python",
   "nbconvert_exporter": "python",
   "pygments_lexer": "ipython3",
   "version": "3.12.6"
  }
 },
 "nbformat": 4,
 "nbformat_minor": 2
}
